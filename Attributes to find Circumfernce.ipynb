{
 "cells": [
  {
   "cell_type": "code",
   "execution_count": 21,
   "id": "5d995744",
   "metadata": {},
   "outputs": [],
   "source": [
    "class Circle():\n",
    "    pi = 3.14  #It is called class object attribute\n",
    "    \n",
    "    def __init__(self,radius=1): #default vale of radius is 1\n",
    "        self.radius = radius\n",
    "        self.area = radius*radius*Circle.pi #If there are not many class object attribute\n",
    "        \n",
    "    def Circumference(self):   #self should be written in parenthesis\n",
    "        return self.radius*self.radius*Circle.pi"
   ]
  },
  {
   "cell_type": "code",
   "execution_count": 32,
   "id": "8017b744",
   "metadata": {},
   "outputs": [],
   "source": [
    "myCircle = Circle(3)"
   ]
  },
  {
   "cell_type": "code",
   "execution_count": 33,
   "id": "0c05fa97",
   "metadata": {},
   "outputs": [
    {
     "data": {
      "text/plain": [
       "28.26"
      ]
     },
     "execution_count": 33,
     "metadata": {},
     "output_type": "execute_result"
    }
   ],
   "source": [
    "myCircle.area"
   ]
  },
  {
   "cell_type": "code",
   "execution_count": 34,
   "id": "88083841",
   "metadata": {},
   "outputs": [
    {
     "data": {
      "text/plain": [
       "3.14"
      ]
     },
     "execution_count": 34,
     "metadata": {},
     "output_type": "execute_result"
    }
   ],
   "source": [
    "myCircle.pi"
   ]
  },
  {
   "cell_type": "code",
   "execution_count": 35,
   "id": "6d57c0af",
   "metadata": {},
   "outputs": [
    {
     "data": {
      "text/plain": [
       "3"
      ]
     },
     "execution_count": 35,
     "metadata": {},
     "output_type": "execute_result"
    }
   ],
   "source": [
    "myCircle.radius"
   ]
  },
  {
   "cell_type": "code",
   "execution_count": 37,
   "id": "32e7c256",
   "metadata": {},
   "outputs": [
    {
     "data": {
      "text/plain": [
       "28.26"
      ]
     },
     "execution_count": 37,
     "metadata": {},
     "output_type": "execute_result"
    }
   ],
   "source": [
    "myCircle.Circumference()  #Note here paraenthesis is required to call a function while in attribute no parenthesis is required"
   ]
  }
 ],
 "metadata": {
  "kernelspec": {
   "display_name": "Python 3 (ipykernel)",
   "language": "python",
   "name": "python3"
  },
  "language_info": {
   "codemirror_mode": {
    "name": "ipython",
    "version": 3
   },
   "file_extension": ".py",
   "mimetype": "text/x-python",
   "name": "python",
   "nbconvert_exporter": "python",
   "pygments_lexer": "ipython3",
   "version": "3.9.7"
  }
 },
 "nbformat": 4,
 "nbformat_minor": 5
}

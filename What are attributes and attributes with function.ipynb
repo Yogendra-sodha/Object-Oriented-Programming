{
 "cells": [
  {
   "cell_type": "code",
   "execution_count": 1,
   "id": "c7d6592a",
   "metadata": {},
   "outputs": [],
   "source": [
    "class Dog():\n",
    "    \n",
    "    def __init__(self,breed,spots,name,allergic):\n",
    "        self.breed = breed\n",
    "        self.spots = spots\n",
    "        self.name = name\n",
    "        self.allergic = allergic"
   ]
  },
  {
   "cell_type": "code",
   "execution_count": null,
   "id": "1e584466",
   "metadata": {},
   "outputs": [],
   "source": [
    "mydog = Dog(breed='Huskie',spots = 'No',name='Jigar',allergic='Lactose tolerant')"
   ]
  },
  {
   "cell_type": "code",
   "execution_count": 5,
   "id": "1c8e7261",
   "metadata": {
    "scrolled": true
   },
   "outputs": [
    {
     "data": {
      "text/plain": [
       "__main__.Dog"
      ]
     },
     "execution_count": 5,
     "metadata": {},
     "output_type": "execute_result"
    }
   ],
   "source": [
    "type(mydog)"
   ]
  },
  {
   "cell_type": "code",
   "execution_count": 6,
   "id": "05116686",
   "metadata": {},
   "outputs": [
    {
     "data": {
      "text/plain": [
       "'Lactose tolerant'"
      ]
     },
     "execution_count": 6,
     "metadata": {},
     "output_type": "execute_result"
    }
   ],
   "source": [
    "mydog.allergic"
   ]
  },
  {
   "cell_type": "code",
   "execution_count": 7,
   "id": "c6bbf88b",
   "metadata": {},
   "outputs": [
    {
     "data": {
      "text/plain": [
       "'Huskie'"
      ]
     },
     "execution_count": 7,
     "metadata": {},
     "output_type": "execute_result"
    }
   ],
   "source": [
    "mydog.breed"
   ]
  },
  {
   "cell_type": "code",
   "execution_count": 8,
   "id": "fb95bb6c",
   "metadata": {},
   "outputs": [
    {
     "data": {
      "text/plain": [
       "'Jigar'"
      ]
     },
     "execution_count": 8,
     "metadata": {},
     "output_type": "execute_result"
    }
   ],
   "source": [
    "mydog.name"
   ]
  },
  {
   "cell_type": "code",
   "execution_count": 9,
   "id": "c6b47cf4",
   "metadata": {},
   "outputs": [],
   "source": [
    "#Attributes with Functions"
   ]
  },
  {
   "cell_type": "code",
   "execution_count": 20,
   "id": "409166da",
   "metadata": {},
   "outputs": [],
   "source": [
    "class Cat():\n",
    "    speicies = 'mammal'\n",
    "    def __init__(self,breed,name,allergic):\n",
    "        self.breed = breed\n",
    "        self.name = name\n",
    "        self.allergic = allergic\n",
    "        \n",
    "    def bark(self,number):\n",
    "        print('Meow! my name is {} and my number is {}'.format(self.name,number))"
   ]
  },
  {
   "cell_type": "code",
   "execution_count": 21,
   "id": "5f78ab42",
   "metadata": {},
   "outputs": [],
   "source": [
    "myCat = Cat(breed = 'Sphynx',name='Jigar',allergic='Jigar')"
   ]
  },
  {
   "cell_type": "code",
   "execution_count": 22,
   "id": "6ea66659",
   "metadata": {},
   "outputs": [
    {
     "data": {
      "text/plain": [
       "__main__.Cat"
      ]
     },
     "execution_count": 22,
     "metadata": {},
     "output_type": "execute_result"
    }
   ],
   "source": [
    "type(myCat)"
   ]
  },
  {
   "cell_type": "code",
   "execution_count": 23,
   "id": "bbd36e95",
   "metadata": {},
   "outputs": [
    {
     "data": {
      "text/plain": [
       "'Jigar'"
      ]
     },
     "execution_count": 23,
     "metadata": {},
     "output_type": "execute_result"
    }
   ],
   "source": [
    "myCat.allergic"
   ]
  },
  {
   "cell_type": "code",
   "execution_count": 24,
   "id": "3b1885c8",
   "metadata": {},
   "outputs": [
    {
     "data": {
      "text/plain": [
       "'mammal'"
      ]
     },
     "execution_count": 24,
     "metadata": {},
     "output_type": "execute_result"
    }
   ],
   "source": [
    "myCat.speicies"
   ]
  },
  {
   "cell_type": "code",
   "execution_count": 25,
   "id": "2bf1cd28",
   "metadata": {},
   "outputs": [
    {
     "name": "stdout",
     "output_type": "stream",
     "text": [
      "Meow! my name is Jigar and my number is 1\n"
     ]
    }
   ],
   "source": [
    "myCat.bark(1)"
   ]
  },
  {
   "cell_type": "code",
   "execution_count": null,
   "id": "09a45b25",
   "metadata": {},
   "outputs": [],
   "source": []
  }
 ],
 "metadata": {
  "kernelspec": {
   "display_name": "Python 3 (ipykernel)",
   "language": "python",
   "name": "python3"
  },
  "language_info": {
   "codemirror_mode": {
    "name": "ipython",
    "version": 3
   },
   "file_extension": ".py",
   "mimetype": "text/x-python",
   "name": "python",
   "nbconvert_exporter": "python",
   "pygments_lexer": "ipython3",
   "version": "3.9.7"
  }
 },
 "nbformat": 4,
 "nbformat_minor": 5
}

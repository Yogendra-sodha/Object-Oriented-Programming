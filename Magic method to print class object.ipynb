{
 "cells": [
  {
   "cell_type": "code",
   "execution_count": 1,
   "id": "73d70a55",
   "metadata": {},
   "outputs": [],
   "source": [
    "class friend():\n",
    "    name = 'Jigar'\n",
    "    def __init__(self,town,career,education):\n",
    "        self.town = town\n",
    "        self.career = career\n",
    "        self.education =education\n",
    "        \n",
    "    def __str__(self):\n",
    "        return f'{friend.name} wants to study in {self.education}'\n",
    "        \n",
    "    "
   ]
  },
  {
   "cell_type": "code",
   "execution_count": 2,
   "id": "c4a8a6ef",
   "metadata": {},
   "outputs": [],
   "source": [
    "myfriend = friend('Rajkot','Machine Engineer','Computer Science')"
   ]
  },
  {
   "cell_type": "code",
   "execution_count": 3,
   "id": "75400a3d",
   "metadata": {},
   "outputs": [
    {
     "data": {
      "text/plain": [
       "'Machine Engineer'"
      ]
     },
     "execution_count": 3,
     "metadata": {},
     "output_type": "execute_result"
    }
   ],
   "source": [
    "myfriend.career"
   ]
  },
  {
   "cell_type": "code",
   "execution_count": 4,
   "id": "1563ae1b",
   "metadata": {},
   "outputs": [
    {
     "data": {
      "text/plain": [
       "'Jigar'"
      ]
     },
     "execution_count": 4,
     "metadata": {},
     "output_type": "execute_result"
    }
   ],
   "source": [
    "myfriend.name"
   ]
  },
  {
   "cell_type": "code",
   "execution_count": 5,
   "id": "c7e7466a",
   "metadata": {},
   "outputs": [
    {
     "data": {
      "text/plain": [
       "'Machine Engineer'"
      ]
     },
     "execution_count": 5,
     "metadata": {},
     "output_type": "execute_result"
    }
   ],
   "source": [
    "myfriend.career"
   ]
  },
  {
   "cell_type": "code",
   "execution_count": 6,
   "id": "bfd15ea5",
   "metadata": {},
   "outputs": [
    {
     "name": "stdout",
     "output_type": "stream",
     "text": [
      "Machine Engineer\n"
     ]
    }
   ],
   "source": [
    "print(myfriend.career)"
   ]
  },
  {
   "cell_type": "code",
   "execution_count": 9,
   "id": "2ebf1a6c",
   "metadata": {},
   "outputs": [
    {
     "name": "stdout",
     "output_type": "stream",
     "text": [
      "Jigar wants to study in Computer Science\n"
     ]
    }
   ],
   "source": [
    "print(myfriend)"
   ]
  }
 ],
 "metadata": {
  "kernelspec": {
   "display_name": "Python 3 (ipykernel)",
   "language": "python",
   "name": "python3"
  },
  "language_info": {
   "codemirror_mode": {
    "name": "ipython",
    "version": 3
   },
   "file_extension": ".py",
   "mimetype": "text/x-python",
   "name": "python",
   "nbconvert_exporter": "python",
   "pygments_lexer": "ipython3",
   "version": "3.9.7"
  }
 },
 "nbformat": 4,
 "nbformat_minor": 5
}

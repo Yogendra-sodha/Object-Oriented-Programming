{
 "cells": [
  {
   "cell_type": "code",
   "execution_count": 25,
   "id": "675224c6",
   "metadata": {},
   "outputs": [],
   "source": [
    "class Account():\n",
    "    \n",
    "    def __init__(self,owner,balance):\n",
    "        self.owner = owner\n",
    "        self.balance = balance\n",
    "        \n",
    "    def __str__(self):\n",
    "        '''parenthesis in return statement''' \n",
    "        '''Used n sentence in return'''\n",
    "        '''RETURN statement should be used in __str__ methods'''\n",
    "        return ( f'Account owner : {self.owner} \\nAccount balance : {self.balance}')\n",
    "    \n",
    "    def deposit(self,d_amount):\n",
    "        self.balance = d_amount+self.balance\n",
    "        return f'Deposit is accepted, your updated bank account details are {self.balance}'\n",
    "    \n",
    "    def withdraw(self,w_amount):\n",
    "        \"\"\"\"Same like we used previous def unction just you to insert self keyword\"\"\"\n",
    "        if w_amount<self.balance:\n",
    "            self.balance = self.balance - w_amount\n",
    "            return f'Your withdrawl is accepted and your updated bank account details are {self.balance}'\n",
    "        else:\n",
    "            a = w_amount - self.balance\n",
    "            return f'Sorry problem from our end we will require {a} more funds to dispatch'"
   ]
  },
  {
   "cell_type": "code",
   "execution_count": 26,
   "id": "4751aede",
   "metadata": {},
   "outputs": [],
   "source": [
    "myacc = Account('HH',200)"
   ]
  },
  {
   "cell_type": "code",
   "execution_count": 27,
   "id": "49d5002a",
   "metadata": {},
   "outputs": [
    {
     "data": {
      "text/plain": [
       "200"
      ]
     },
     "execution_count": 27,
     "metadata": {},
     "output_type": "execute_result"
    }
   ],
   "source": [
    "myacc.balance"
   ]
  },
  {
   "cell_type": "code",
   "execution_count": 28,
   "id": "596aeb63",
   "metadata": {},
   "outputs": [
    {
     "data": {
      "text/plain": [
       "'HH'"
      ]
     },
     "execution_count": 28,
     "metadata": {},
     "output_type": "execute_result"
    }
   ],
   "source": [
    "myacc.owner"
   ]
  },
  {
   "cell_type": "code",
   "execution_count": 29,
   "id": "bc2c20e7",
   "metadata": {},
   "outputs": [
    {
     "data": {
      "text/plain": [
       "'Deposit is accepted, your updated bank account details are 250'"
      ]
     },
     "execution_count": 29,
     "metadata": {},
     "output_type": "execute_result"
    }
   ],
   "source": [
    "myacc.deposit(50)"
   ]
  },
  {
   "cell_type": "code",
   "execution_count": 30,
   "id": "5c5cbcf6",
   "metadata": {},
   "outputs": [
    {
     "data": {
      "text/plain": [
       "'Your withdrawl is accepted and your updated bank account details are 230'"
      ]
     },
     "execution_count": 30,
     "metadata": {},
     "output_type": "execute_result"
    }
   ],
   "source": [
    "myacc.withdraw(20)"
   ]
  },
  {
   "cell_type": "code",
   "execution_count": 31,
   "id": "b31f7ba7",
   "metadata": {},
   "outputs": [
    {
     "data": {
      "text/plain": [
       "'Sorry problem from our end we will require 70 more funds to dispatch'"
      ]
     },
     "execution_count": 31,
     "metadata": {},
     "output_type": "execute_result"
    }
   ],
   "source": [
    "myacc.withdraw(300)"
   ]
  }
 ],
 "metadata": {
  "kernelspec": {
   "display_name": "Python 3 (ipykernel)",
   "language": "python",
   "name": "python3"
  },
  "language_info": {
   "codemirror_mode": {
    "name": "ipython",
    "version": 3
   },
   "file_extension": ".py",
   "mimetype": "text/x-python",
   "name": "python",
   "nbconvert_exporter": "python",
   "pygments_lexer": "ipython3",
   "version": "3.9.7"
  }
 },
 "nbformat": 4,
 "nbformat_minor": 5
}
